{
 "cells": [
  {
   "cell_type": "code",
   "execution_count": 1,
   "metadata": {},
   "outputs": [
    {
     "name": "stderr",
     "output_type": "stream",
     "text": [
      "Loading tidyverse: ggplot2\n",
      "Loading tidyverse: tibble\n",
      "Loading tidyverse: tidyr\n",
      "Loading tidyverse: readr\n",
      "Loading tidyverse: purrr\n",
      "Loading tidyverse: dplyr\n",
      "Conflicts with tidy packages ---------------------------------------------------\n",
      "filter(): dplyr, stats\n",
      "lag():    dplyr, stats\n"
     ]
    }
   ],
   "source": [
    "library(tidyverse)\n",
    "library(readxl)\n",
    "library(Cairo)"
   ]
  },
  {
   "cell_type": "markdown",
   "metadata": {},
   "source": [
    "# Jasmine's collection data"
   ]
  },
  {
   "cell_type": "code",
   "execution_count": 2,
   "metadata": {
    "collapsed": true
   },
   "outputs": [],
   "source": [
    "d= readxl::read_excel(\"Collection_Eucs_2015.xlsx\", skip = 1, sheet = \"RawField\")"
   ]
  },
  {
   "cell_type": "code",
   "execution_count": 3,
   "metadata": {
    "collapsed": true
   },
   "outputs": [],
   "source": [
    "d =  d[c(1:9, 12:18)] # remove trailing duplicate columns for associated spp, and duplicated lat/lon"
   ]
  },
  {
   "cell_type": "code",
   "execution_count": 4,
   "metadata": {
    "collapsed": true
   },
   "outputs": [],
   "source": [
    "cleaned = d %>% select(ID, Species, Latitude, Longitude, Location) %>%\n",
    "    rename(Species.orig = Species) %>%\n",
    "    mutate(Species = gsub(' *(\\\\?|\\\\(.*\\\\))*$', '', Species.orig),\n",
    "           Species = sub('^Eucalyptus alben$', 'Eucalyptus albens', Species),\n",
    "           Species = gsub('Eucalptus', 'Eucalyptus', Species),\n",
    "           Species = gsub('Eucalpyptus', 'Eucalyptus', Species)\n",
    "          )"
   ]
  },
  {
   "cell_type": "code",
   "execution_count": 5,
   "metadata": {},
   "outputs": [
    {
     "data": {
      "text/html": [
       "<ol class=list-inline>\n",
       "\t<li>'Eucalyptus albens'</li>\n",
       "\t<li>'Eucalyptus melliodora'</li>\n",
       "\t<li>'Eucalyptus sideroxylon'</li>\n",
       "\t<li>'DISCARDED'</li>\n",
       "\t<li>'Eucalyptus pilligaensis'</li>\n",
       "\t<li>''</li>\n",
       "\t<li>'Eucalyptus crebra'</li>\n",
       "\t<li>'Eucalyptus populnea'</li>\n",
       "\t<li>'Eucalyptus fibrosa'</li>\n",
       "\t<li>'Eucalyptus moluccana'</li>\n",
       "\t<li>'Eucalyptus largiflorens'</li>\n",
       "\t<li>'Eucalyptus conica'</li>\n",
       "\t<li>'Eucalyptus baueriana'</li>\n",
       "\t<li>'Eucalyptus sp'</li>\n",
       "\t<li>'Eucalyptus caleyi'</li>\n",
       "\t<li>'Eucalyptus microcarpa'</li>\n",
       "\t<li>'Eucalyptus polyanthemos'</li>\n",
       "\t<li>'Hybrid? Sider x micro'</li>\n",
       "\t<li>'Hybrid? Sider x moluc'</li>\n",
       "\t<li>'Eucalyptus tricarpa'</li>\n",
       "\t<li>'Hybrid albens x microcarpa'</li>\n",
       "\t<li>'Eucalyptus odorata'</li>\n",
       "\t<li>'Eucalyptus leucoxylon'</li>\n",
       "\t<li>'Eucalyptus porosa'</li>\n",
       "\t<li>'Eucalyptus woollsiana'</li>\n",
       "\t<li>'Eucalyptus sideroxylon x melliodora'</li>\n",
       "</ol>\n"
      ],
      "text/latex": [
       "\\begin{enumerate*}\n",
       "\\item 'Eucalyptus albens'\n",
       "\\item 'Eucalyptus melliodora'\n",
       "\\item 'Eucalyptus sideroxylon'\n",
       "\\item 'DISCARDED'\n",
       "\\item 'Eucalyptus pilligaensis'\n",
       "\\item ''\n",
       "\\item 'Eucalyptus crebra'\n",
       "\\item 'Eucalyptus populnea'\n",
       "\\item 'Eucalyptus fibrosa'\n",
       "\\item 'Eucalyptus moluccana'\n",
       "\\item 'Eucalyptus largiflorens'\n",
       "\\item 'Eucalyptus conica'\n",
       "\\item 'Eucalyptus baueriana'\n",
       "\\item 'Eucalyptus sp'\n",
       "\\item 'Eucalyptus caleyi'\n",
       "\\item 'Eucalyptus microcarpa'\n",
       "\\item 'Eucalyptus polyanthemos'\n",
       "\\item 'Hybrid? Sider x micro'\n",
       "\\item 'Hybrid? Sider x moluc'\n",
       "\\item 'Eucalyptus tricarpa'\n",
       "\\item 'Hybrid albens x microcarpa'\n",
       "\\item 'Eucalyptus odorata'\n",
       "\\item 'Eucalyptus leucoxylon'\n",
       "\\item 'Eucalyptus porosa'\n",
       "\\item 'Eucalyptus woollsiana'\n",
       "\\item 'Eucalyptus sideroxylon x melliodora'\n",
       "\\end{enumerate*}\n"
      ],
      "text/markdown": [
       "1. 'Eucalyptus albens'\n",
       "2. 'Eucalyptus melliodora'\n",
       "3. 'Eucalyptus sideroxylon'\n",
       "4. 'DISCARDED'\n",
       "5. 'Eucalyptus pilligaensis'\n",
       "6. ''\n",
       "7. 'Eucalyptus crebra'\n",
       "8. 'Eucalyptus populnea'\n",
       "9. 'Eucalyptus fibrosa'\n",
       "10. 'Eucalyptus moluccana'\n",
       "11. 'Eucalyptus largiflorens'\n",
       "12. 'Eucalyptus conica'\n",
       "13. 'Eucalyptus baueriana'\n",
       "14. 'Eucalyptus sp'\n",
       "15. 'Eucalyptus caleyi'\n",
       "16. 'Eucalyptus microcarpa'\n",
       "17. 'Eucalyptus polyanthemos'\n",
       "18. 'Hybrid? Sider x micro'\n",
       "19. 'Hybrid? Sider x moluc'\n",
       "20. 'Eucalyptus tricarpa'\n",
       "21. 'Hybrid albens x microcarpa'\n",
       "22. 'Eucalyptus odorata'\n",
       "23. 'Eucalyptus leucoxylon'\n",
       "24. 'Eucalyptus porosa'\n",
       "25. 'Eucalyptus woollsiana'\n",
       "26. 'Eucalyptus sideroxylon x melliodora'\n",
       "\n",
       "\n"
      ],
      "text/plain": [
       " [1] \"Eucalyptus albens\"                   \"Eucalyptus melliodora\"              \n",
       " [3] \"Eucalyptus sideroxylon\"              \"DISCARDED\"                          \n",
       " [5] \"Eucalyptus pilligaensis\"             \"\"                                   \n",
       " [7] \"Eucalyptus crebra\"                   \"Eucalyptus populnea\"                \n",
       " [9] \"Eucalyptus fibrosa\"                  \"Eucalyptus moluccana\"               \n",
       "[11] \"Eucalyptus largiflorens\"             \"Eucalyptus conica\"                  \n",
       "[13] \"Eucalyptus baueriana\"                \"Eucalyptus sp\"                      \n",
       "[15] \"Eucalyptus caleyi\"                   \"Eucalyptus microcarpa\"              \n",
       "[17] \"Eucalyptus polyanthemos\"             \"Hybrid? Sider x micro\"              \n",
       "[19] \"Hybrid? Sider x moluc\"               \"Eucalyptus tricarpa\"                \n",
       "[21] \"Hybrid albens x microcarpa\"          \"Eucalyptus odorata\"                 \n",
       "[23] \"Eucalyptus leucoxylon\"               \"Eucalyptus porosa\"                  \n",
       "[25] \"Eucalyptus woollsiana\"               \"Eucalyptus sideroxylon x melliodora\""
      ]
     },
     "metadata": {},
     "output_type": "display_data"
    }
   ],
   "source": [
    "unique(cleaned$Species)"
   ]
  },
  {
   "cell_type": "code",
   "execution_count": 6,
   "metadata": {
    "collapsed": true
   },
   "outputs": [],
   "source": [
    "write.csv(cleaned, \"clean_metadata.csv\", row.names=F)"
   ]
  },
  {
   "cell_type": "markdown",
   "metadata": {},
   "source": [
    "# Read number\n",
    "\n"
   ]
  },
  {
   "cell_type": "code",
   "execution_count": 7,
   "metadata": {
    "collapsed": true
   },
   "outputs": [],
   "source": [
    "rfile2samp = function (x) {gsub('.*\\\\/(\\\\S+)\\\\.fastq.gz', x)}"
   ]
  },
  {
   "cell_type": "code",
   "execution_count": 8,
   "metadata": {
    "collapsed": true
   },
   "outputs": [],
   "source": [
    "rnum = read.delim(\"readnum.tsv\", stringsAsFactors=F) %>%\n",
    "    mutate(coverage = bases / 600000000,\n",
    "           sample = gsub('.*\\\\/(\\\\S+)\\\\.fastq.gz', '\\\\1', filename))"
   ]
  },
  {
   "cell_type": "code",
   "execution_count": 9,
   "metadata": {},
   "outputs": [
    {
     "data": {
      "text/plain": [
       "   filename             reads              bases              perc_gc     \n",
       " Length:143         Min.   :     960   Min.   :1.264e+05   Min.   :30.80  \n",
       " Class :character   1st Qu.:14011529   1st Qu.:1.559e+09   1st Qu.:38.90  \n",
       " Mode  :character   Median :19593288   Median :2.280e+09   Median :39.20  \n",
       "                    Mean   :19211738   Mean   :2.190e+09   Mean   :39.27  \n",
       "                    3rd Qu.:25297435   3rd Qu.:2.973e+09   3rd Qu.:39.55  \n",
       "                    Max.   :40583898   Max.   :4.496e+09   Max.   :43.50  \n",
       "    non_acgt           coverage           sample         \n",
       " Min.   :     177   Min.   :0.000211   Length:143        \n",
       " 1st Qu.: 5518757   1st Qu.:2.598600   Class :character  \n",
       " Median : 6597515   Median :3.800665   Mode  :character  \n",
       " Mean   : 7063192   Mean   :3.649943                     \n",
       " 3rd Qu.: 8421240   3rd Qu.:4.955607                     \n",
       " Max.   :16859180   Max.   :7.493517                     "
      ]
     },
     "metadata": {},
     "output_type": "display_data"
    }
   ],
   "source": [
    "summary(rnum)"
   ]
  },
  {
   "cell_type": "code",
   "execution_count": 10,
   "metadata": {},
   "outputs": [
    {
     "data": {
      "text/html": [
       "<strong>png:</strong> 2"
      ],
      "text/latex": [
       "\\textbf{png:} 2"
      ],
      "text/markdown": [
       "**png:** 2"
      ],
      "text/plain": [
       "png \n",
       "  2 "
      ]
     },
     "metadata": {},
     "output_type": "display_data"
    }
   ],
   "source": [
    "pdf(\"rnum.pdf\")\n",
    "plot(density(rnum$coverage))\n",
    "hist(rnum$coverage, breaks=20)\n",
    "hist(rnum$coverage[rnum$coverage>1], breaks=20)\n",
    "dev.off()"
   ]
  },
  {
   "cell_type": "code",
   "execution_count": 11,
   "metadata": {
    "collapsed": true
   },
   "outputs": [],
   "source": [
    "write.csv(rnum, 'clean_readnum.csv', row.names=F)"
   ]
  }
 ],
 "metadata": {
  "kernelspec": {
   "display_name": "R",
   "language": "R",
   "name": "ir"
  },
  "language_info": {
   "codemirror_mode": "r",
   "file_extension": ".r",
   "mimetype": "text/x-r-source",
   "name": "R",
   "pygments_lexer": "r",
   "version": "3.4.0"
  }
 },
 "nbformat": 4,
 "nbformat_minor": 2
}
